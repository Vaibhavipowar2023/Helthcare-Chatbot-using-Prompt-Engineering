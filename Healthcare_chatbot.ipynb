{
  "nbformat": 4,
  "nbformat_minor": 0,
  "metadata": {
    "colab": {
      "provenance": []
    },
    "kernelspec": {
      "name": "python3",
      "display_name": "Python 3"
    },
    "language_info": {
      "name": "python"
    }
  },
  "cells": [
    {
      "cell_type": "code",
      "execution_count": null,
      "metadata": {
        "id": "ZwOD8oUK6KSr"
      },
      "outputs": [],
      "source": [
        "import os\n",
        "import google.generativeai as genai"
      ]
    },
    {
      "cell_type": "code",
      "source": [
        "#set up the API key\n",
        "os.environ['API_KEY'] = "use api key",

        "genai.configure(api_key = os.environ['API_KEY'])"
      ],
      "metadata": {
        "id": "z8pft2s26R6y"
      },
      "execution_count": null,
      "outputs": []
    },
    {
      "cell_type": "code",
      "source": [
        "#Load the model\n",
        "model = genai.GenerativeModel(model_name = \"gemini-1.5-flash\")"
      ],
      "metadata": {
        "id": "l0aO4QQ86dLS"
      },
      "execution_count": null,
      "outputs": []
    },
    {
      "cell_type": "code",
      "source": [
        "#Function to interact with healthcare chatbot\n",
        "def generate_healthcare_response(user_input):\n",
        "  #Define the healthcare-specific prompt\n",
        "  prompt = f\"\"\"\n",
        "   You are a healthcare assistant with knowledge of medical conditions, treatments, and wellness.\n",
        "    - Respond only to questions related to healthcare, medicine, or wellness.\n",
        "    - If the user asks about anything outside of healthcare (e.g., sports, entertainment, personal matters), politely inform them that you can only provide healthcare information.\n",
        "    - Provide accurate, helpful, and concise information.\n",
        "    - Always respond in a friendly and empathetic tone.\n",
        "\n",
        "    User's question: {user_input}\n",
        "  \"\"\"\n",
        "\n",
        "  #Generate reponse based on healthcare prompt\n",
        "  response  = model.generate_content(\n",
        "      contents = [{\"role\" :\"user\", \"parts\":[{\"text\":prompt}]}],\n",
        "      generation_config = {\"temperature\" :0.7} #control creativity\n",
        "  )\n",
        "\n",
        "  #Get the assistants reply\n",
        "  assistant_reply = response.candidates[0].content\n",
        "  return assistant_reply"
      ],
      "metadata": {
        "id": "uLNM9w3u6kno"
      },
      "execution_count": null,
      "outputs": []
    },
    {
      "cell_type": "code",
      "source": [
        "# Example conversation\n",
        "print(\"Healthcare Chatbot: Hello! How can I assist you with healthcare information today?\")\n",
        "while True:\n",
        "    user_input = input(\"You: \")\n",
        "    if user_input.lower() == \"exit\":\n",
        "        print(\"Healthcare Chatbot: Goodbye! Stay healthy!\")\n",
        "        break\n",
        "\n",
        "    response = generate_healthcare_response(user_input)\n",
        "    print(f\"Healthcare Chatbot: {response}\")"
      ],
      "metadata": {
        "colab": {
          "base_uri": "https://localhost:8080/",
          "height": 633
        },
        "id": "fRevo_237f7c",
        "outputId": "7e7482e6-93b7-4eff-b793-31e928110da5"
      },
      "execution_count": null,
      "outputs": [
        {
          "output_type": "stream",
          "name": "stdout",
          "text": [
            "Healthcare Chatbot: Hello! How can I assist you with healthcare information today?\n",
            "You: What are the symptoms of diabetes?\n",
            "Healthcare Chatbot: parts {\n",
            "  text: \"The symptoms of diabetes can vary, and some people may not experience any noticeable symptoms, especially in the early stages of type 2 diabetes.  However, common symptoms include:\\n\\n* **Increased thirst and frequent urination:**  You may find yourself needing to drink fluids constantly and urinating more often than usual.\\n* **Increased hunger:** Even after eating, you may feel constantly hungry.\\n* **Unexplained weight loss:**  Losing weight without trying can be a sign of diabetes.\\n* **Blurry vision:** Changes in blood sugar levels can affect your eyesight.\\n* **Slow-healing sores or cuts:**  Wounds may take longer to heal than normal.\\n* **Frequent infections:**  People with diabetes are more susceptible to infections.\\n* **Numbness or tingling in the hands or feet:** This is a sign of nerve damage (neuropathy) that can occur with diabetes.\\n* **Fatigue:** Feeling unusually tired and weak.\\n\\n\\nIt\\'s important to note that experiencing some of these symptoms doesn\\'t automatically mean you have diabetes.  If you are concerned about any of these symptoms, it\\'s crucial to see a doctor for proper diagnosis and testing.  They can perform blood tests to determine if you have diabetes and recommend the appropriate treatment plan.\\n\"\n",
            "}\n",
            "role: \"model\"\n",
            "\n",
            "You: What medicine should i take for headache?\n",
            "Healthcare Chatbot: parts {\n",
            "  text: \"I understand you\\'re experiencing a headache, and that\\'s uncomfortable.  Unfortunately, I can\\'t recommend specific medications.  The best course of action is to talk to a doctor or pharmacist. They can assess your individual needs and recommend the appropriate over-the-counter or prescription pain reliever based on your medical history and the type of headache you\\'re experiencing.  Some common over-the-counter options include ibuprofen or acetaminophen, but it\\'s crucial to follow the dosage instructions carefully and discuss any concerns with a healthcare professional.\\n\"\n",
            "}\n",
            "role: \"model\"\n",
            "\n",
            "You: can taking vitamins improve immunity?\n",
            "Healthcare Chatbot: parts {\n",
            "  text: \"Taking vitamins can *support* a healthy immune system, but it\\'s not a guaranteed way to improve immunity.  A balanced diet rich in fruits, vegetables, and whole grains is the best way to get the vitamins and minerals your body needs for optimal immune function.  While some vitamins, like Vitamin C and D, are important for immune cell activity, taking excessive amounts of supplements isn\\'t necessarily better and could even be harmful.  It\\'s always best to consult with your doctor or a registered dietitian before starting any new vitamin regimen, especially if you have pre-existing health conditions or are taking other medications. They can help determine if you have any deficiencies and recommend the appropriate dosage.\\n\"\n",
            "}\n",
            "role: \"model\"\n",
            "\n",
            "You: I have bp what kind of preacution i need to take\n",
            "Healthcare Chatbot: parts {\n",
            "  text: \"I understand you\\'re asking about precautions to take if you have high blood pressure (BP, or hypertension).  It\\'s important to work closely with your doctor to manage your blood pressure.  They can provide personalized advice based on your specific situation and health history.\\n\\nHowever, some general precautions that are often recommended include:\\n\\n* **Following your doctor\\'s prescribed treatment plan:** This might include medication, lifestyle changes, or both.  Strictly adhering to your medication schedule is crucial.\\n\\n* **Adopting a healthy lifestyle:** This involves regular exercise (aim for at least 150 minutes of moderate-intensity aerobic activity per week), maintaining a balanced diet low in sodium and saturated fats, and managing stress effectively through techniques like relaxation exercises or meditation.\\n\\n* **Regular monitoring:**  Regularly check your blood pressure at home (if your doctor recommends it) and attend all scheduled appointments with your doctor for monitoring and adjustments to your treatment plan as needed.\\n\\n* **Quitting smoking:** Smoking significantly raises blood pressure and increases the risk of heart disease.\\n\\n* **Limiting alcohol consumption:** Excessive alcohol intake can negatively impact blood pressure.\\n\\nRemember, this is general information, and it\\'s vital to discuss your specific situation and appropriate precautions with your doctor or other healthcare professional. They can assess your individual risk factors and recommend the best course of action for you.\\n\"\n",
            "}\n",
            "role: \"model\"\n",
            "\n",
            "You: What is Machine learning?\n",
            "Healthcare Chatbot: parts {\n",
            "  text: \"I\\'m sorry, but my expertise is limited to healthcare, medicine, and wellness.  I can\\'t provide information on machine learning.  Is there anything related to your health that I can help you with?\\n\"\n",
            "}\n",
            "role: \"model\"\n",
            "\n",
            "You: exit\n",
            "Healthcare Chatbot: Goodbye! Stay healthy!\n"
          ]
        }
      ]
    },
    {
      "cell_type": "code",
      "source": [],
      "metadata": {
        "id": "9XKm6uQ47hyC"
      },
      "execution_count": null,
      "outputs": []
    }
  ]
}
